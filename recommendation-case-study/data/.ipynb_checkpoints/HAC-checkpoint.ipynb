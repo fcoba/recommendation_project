{
 "cells": [
  {
   "cell_type": "code",
   "execution_count": 1,
   "metadata": {
    "ExecuteTime": {
     "end_time": "2019-07-02T20:54:52.976347Z",
     "start_time": "2019-07-02T20:54:52.529187Z"
    }
   },
   "outputs": [],
   "source": [
    "import pandas as pd"
   ]
  },
  {
   "cell_type": "code",
   "execution_count": 2,
   "metadata": {
    "ExecuteTime": {
     "end_time": "2019-07-02T20:54:53.000090Z",
     "start_time": "2019-07-02T20:54:52.978393Z"
    }
   },
   "outputs": [],
   "source": [
    "df = pd.read_csv('users.csv', index_col=0)"
   ]
  },
  {
   "cell_type": "code",
   "execution_count": 3,
   "metadata": {
    "ExecuteTime": {
     "end_time": "2019-07-02T20:54:53.019006Z",
     "start_time": "2019-07-02T20:54:53.001811Z"
    }
   },
   "outputs": [
    {
     "data": {
      "text/html": [
       "<div>\n",
       "<style scoped>\n",
       "    .dataframe tbody tr th:only-of-type {\n",
       "        vertical-align: middle;\n",
       "    }\n",
       "\n",
       "    .dataframe tbody tr th {\n",
       "        vertical-align: top;\n",
       "    }\n",
       "\n",
       "    .dataframe thead th {\n",
       "        text-align: right;\n",
       "    }\n",
       "</style>\n",
       "<table border=\"1\" class=\"dataframe\">\n",
       "  <thead>\n",
       "    <tr style=\"text-align: right;\">\n",
       "      <th></th>\n",
       "      <th>id</th>\n",
       "      <th>gender</th>\n",
       "      <th>age</th>\n",
       "      <th>occupation</th>\n",
       "      <th>zipcode</th>\n",
       "    </tr>\n",
       "  </thead>\n",
       "  <tbody>\n",
       "    <tr>\n",
       "      <th>0</th>\n",
       "      <td>2</td>\n",
       "      <td>M</td>\n",
       "      <td>56</td>\n",
       "      <td>self-employed</td>\n",
       "      <td>70072</td>\n",
       "    </tr>\n",
       "    <tr>\n",
       "      <th>1</th>\n",
       "      <td>3</td>\n",
       "      <td>M</td>\n",
       "      <td>25</td>\n",
       "      <td>scientist</td>\n",
       "      <td>55117</td>\n",
       "    </tr>\n",
       "    <tr>\n",
       "      <th>2</th>\n",
       "      <td>4</td>\n",
       "      <td>M</td>\n",
       "      <td>45</td>\n",
       "      <td>executive/managerial</td>\n",
       "      <td>02460</td>\n",
       "    </tr>\n",
       "    <tr>\n",
       "      <th>3</th>\n",
       "      <td>5</td>\n",
       "      <td>M</td>\n",
       "      <td>25</td>\n",
       "      <td>writer</td>\n",
       "      <td>55455</td>\n",
       "    </tr>\n",
       "    <tr>\n",
       "      <th>4</th>\n",
       "      <td>6</td>\n",
       "      <td>F</td>\n",
       "      <td>50</td>\n",
       "      <td>homemaker</td>\n",
       "      <td>55117</td>\n",
       "    </tr>\n",
       "  </tbody>\n",
       "</table>\n",
       "</div>"
      ],
      "text/plain": [
       "   id gender  age            occupation zipcode\n",
       "0   2      M   56         self-employed   70072\n",
       "1   3      M   25             scientist   55117\n",
       "2   4      M   45  executive/managerial   02460\n",
       "3   5      M   25                writer   55455\n",
       "4   6      F   50             homemaker   55117"
      ]
     },
     "execution_count": 3,
     "metadata": {},
     "output_type": "execute_result"
    }
   ],
   "source": [
    "df.head()"
   ]
  },
  {
   "cell_type": "code",
   "execution_count": 4,
   "metadata": {
    "ExecuteTime": {
     "end_time": "2019-07-02T20:54:53.024330Z",
     "start_time": "2019-07-02T20:54:53.021083Z"
    }
   },
   "outputs": [
    {
     "data": {
      "text/plain": [
       "6039"
      ]
     },
     "execution_count": 4,
     "metadata": {},
     "output_type": "execute_result"
    }
   ],
   "source": [
    "len(df)"
   ]
  },
  {
   "cell_type": "code",
   "execution_count": 5,
   "metadata": {
    "ExecuteTime": {
     "end_time": "2019-07-02T20:54:53.032378Z",
     "start_time": "2019-07-02T20:54:53.025676Z"
    }
   },
   "outputs": [
    {
     "data": {
      "text/plain": [
       "25    2096\n",
       "35    1193\n",
       "18    1103\n",
       "45     550\n",
       "50     496\n",
       "56     380\n",
       "1      221\n",
       "Name: age, dtype: int64"
      ]
     },
     "execution_count": 5,
     "metadata": {},
     "output_type": "execute_result"
    }
   ],
   "source": [
    "df.age.value_counts()"
   ]
  },
  {
   "cell_type": "code",
   "execution_count": 6,
   "metadata": {
    "ExecuteTime": {
     "end_time": "2019-07-02T20:54:53.044878Z",
     "start_time": "2019-07-02T20:54:53.034208Z"
    }
   },
   "outputs": [
    {
     "data": {
      "text/plain": [
       "48104    19\n",
       "22903    18\n",
       "94110    17\n",
       "55104    17\n",
       "10025    16\n",
       "55455    16\n",
       "55105    16\n",
       "02138    15\n",
       "94114    15\n",
       "55408    15\n",
       "98103    14\n",
       "90024    14\n",
       "94117    14\n",
       "48103    13\n",
       "37922    13\n",
       "90210    13\n",
       "10016    13\n",
       "60640    13\n",
       "55406    12\n",
       "55405    11\n",
       "10003    11\n",
       "02139    11\n",
       "48105    11\n",
       "55113    11\n",
       "10021    10\n",
       "60657    10\n",
       "10011    10\n",
       "60201    10\n",
       "97330    10\n",
       "98115    10\n",
       "         ..\n",
       "53140     1\n",
       "53806     1\n",
       "33149     1\n",
       "49034     1\n",
       "97469     1\n",
       "61600     1\n",
       "85213     1\n",
       "45904     1\n",
       "28120     1\n",
       "14650     1\n",
       "13214     1\n",
       "60035     1\n",
       "92315     1\n",
       "10583     1\n",
       "03768     1\n",
       "95128     1\n",
       "34610     1\n",
       "17022     1\n",
       "55434     1\n",
       "18011     1\n",
       "12203     1\n",
       "01095     1\n",
       "64114     1\n",
       "95326     1\n",
       "93555     1\n",
       "37032     1\n",
       "93906     1\n",
       "98121     1\n",
       "13039     1\n",
       "48072     1\n",
       "Name: zipcode, Length: 3439, dtype: int64"
      ]
     },
     "execution_count": 6,
     "metadata": {},
     "output_type": "execute_result"
    }
   ],
   "source": [
    "df.zipcode.value_counts()"
   ]
  },
  {
   "cell_type": "code",
   "execution_count": 7,
   "metadata": {
    "ExecuteTime": {
     "end_time": "2019-07-02T20:54:53.051347Z",
     "start_time": "2019-07-02T20:54:53.046170Z"
    }
   },
   "outputs": [
    {
     "data": {
      "text/plain": [
       "id             int64\n",
       "gender        object\n",
       "age            int64\n",
       "occupation    object\n",
       "zipcode       object\n",
       "dtype: object"
      ]
     },
     "execution_count": 7,
     "metadata": {},
     "output_type": "execute_result"
    }
   ],
   "source": [
    "df.dtypes"
   ]
  },
  {
   "cell_type": "code",
   "execution_count": 8,
   "metadata": {
    "ExecuteTime": {
     "end_time": "2019-07-02T20:54:53.057698Z",
     "start_time": "2019-07-02T20:54:53.054065Z"
    }
   },
   "outputs": [],
   "source": [
    "df.age = df.age.astype(object)"
   ]
  },
  {
   "cell_type": "code",
   "execution_count": 9,
   "metadata": {
    "ExecuteTime": {
     "end_time": "2019-07-02T20:54:53.186998Z",
     "start_time": "2019-07-02T20:54:53.059770Z"
    }
   },
   "outputs": [],
   "source": [
    "df_dummy= pd.get_dummies(df)"
   ]
  },
  {
   "cell_type": "code",
   "execution_count": 10,
   "metadata": {
    "ExecuteTime": {
     "end_time": "2019-07-02T20:54:53.276570Z",
     "start_time": "2019-07-02T20:54:53.188395Z"
    }
   },
   "outputs": [],
   "source": [
    "from scipy.cluster.hierarchy import dendrogram, linkage"
   ]
  },
  {
   "cell_type": "code",
   "execution_count": 11,
   "metadata": {
    "ExecuteTime": {
     "end_time": "2019-07-02T20:56:00.837695Z",
     "start_time": "2019-07-02T20:54:53.277773Z"
    }
   },
   "outputs": [],
   "source": [
    "z = linkage(df_dummy, 'complete')"
   ]
  },
  {
   "cell_type": "code",
   "execution_count": 12,
   "metadata": {
    "ExecuteTime": {
     "end_time": "2019-07-02T20:56:47.814409Z",
     "start_time": "2019-07-02T20:56:00.839501Z"
    }
   },
   "outputs": [
    {
     "data": {
      "text/plain": [
       "<Figure size 640x480 with 1 Axes>"
      ]
     },
     "metadata": {},
     "output_type": "display_data"
    }
   ],
   "source": [
    "from scipy.cluster.hierarchy import cophenet\n",
    "from scipy.spatial.distance import pdist\n",
    "import matplotlib.pyplot as plt\n",
    "c, coph_dist = cophenet(z, pdist(df_dummy, 'jaccard'))\n",
    "c\n",
    "dendrogram(\n",
    "    z,\n",
    "    leaf_rotation = 90.,\n",
    "    leaf_font_size = 8.,)\n",
    "plt.show()"
   ]
  },
  {
   "cell_type": "code",
   "execution_count": 13,
   "metadata": {
    "ExecuteTime": {
     "end_time": "2019-07-02T20:56:48.453502Z",
     "start_time": "2019-07-02T20:56:47.815416Z"
    }
   },
   "outputs": [],
   "source": [
    "from sklearn.cluster import AgglomerativeClustering\n",
    "from sklearn.neighbors import KernelDensity"
   ]
  },
  {
   "cell_type": "code",
   "execution_count": 14,
   "metadata": {
    "ExecuteTime": {
     "end_time": "2019-07-02T20:56:48.457360Z",
     "start_time": "2019-07-02T20:56:48.454752Z"
    }
   },
   "outputs": [],
   "source": [
    "cluster = AgglomerativeClustering(n_clusters=6, affinity='jaccard', linkage='complete')"
   ]
  },
  {
   "cell_type": "code",
   "execution_count": 15,
   "metadata": {
    "ExecuteTime": {
     "end_time": "2019-07-02T20:57:29.168723Z",
     "start_time": "2019-07-02T20:56:48.458731Z"
    }
   },
   "outputs": [],
   "source": [
    "preds = cluster.fit_predict(df_dummy)"
   ]
  },
  {
   "cell_type": "code",
   "execution_count": 16,
   "metadata": {
    "ExecuteTime": {
     "end_time": "2019-07-02T20:57:29.173129Z",
     "start_time": "2019-07-02T20:57:29.170140Z"
    }
   },
   "outputs": [
    {
     "data": {
      "text/plain": [
       "array([1, 1, 2, ..., 0, 2, 1])"
      ]
     },
     "execution_count": 16,
     "metadata": {},
     "output_type": "execute_result"
    }
   ],
   "source": [
    "preds"
   ]
  },
  {
   "cell_type": "code",
   "execution_count": 19,
   "metadata": {
    "ExecuteTime": {
     "end_time": "2019-07-02T20:57:54.759193Z",
     "start_time": "2019-07-02T20:57:54.756400Z"
    }
   },
   "outputs": [],
   "source": [
    "preds_df = pd.DataFrame(preds)"
   ]
  },
  {
   "cell_type": "code",
   "execution_count": 20,
   "metadata": {
    "ExecuteTime": {
     "end_time": "2019-07-02T20:57:59.890107Z",
     "start_time": "2019-07-02T20:57:59.872031Z"
    },
    "scrolled": true
   },
   "outputs": [],
   "source": [
    "preds_df.to_csv('predictions.csv', index=True)"
   ]
  },
  {
   "cell_type": "code",
   "execution_count": null,
   "metadata": {},
   "outputs": [],
   "source": []
  }
 ],
 "metadata": {
  "kernelspec": {
   "display_name": "Python 3",
   "language": "python",
   "name": "python3"
  },
  "language_info": {
   "codemirror_mode": {
    "name": "ipython",
    "version": 3
   },
   "file_extension": ".py",
   "mimetype": "text/x-python",
   "name": "python",
   "nbconvert_exporter": "python",
   "pygments_lexer": "ipython3",
   "version": "3.7.3"
  },
  "toc": {
   "base_numbering": 1,
   "nav_menu": {},
   "number_sections": true,
   "sideBar": true,
   "skip_h1_title": false,
   "title_cell": "Table of Contents",
   "title_sidebar": "Contents",
   "toc_cell": false,
   "toc_position": {},
   "toc_section_display": true,
   "toc_window_display": false
  },
  "varInspector": {
   "cols": {
    "lenName": 16,
    "lenType": 16,
    "lenVar": 40
   },
   "kernels_config": {
    "python": {
     "delete_cmd_postfix": "",
     "delete_cmd_prefix": "del ",
     "library": "var_list.py",
     "varRefreshCmd": "print(var_dic_list())"
    },
    "r": {
     "delete_cmd_postfix": ") ",
     "delete_cmd_prefix": "rm(",
     "library": "var_list.r",
     "varRefreshCmd": "cat(var_dic_list()) "
    }
   },
   "types_to_exclude": [
    "module",
    "function",
    "builtin_function_or_method",
    "instance",
    "_Feature"
   ],
   "window_display": false
  }
 },
 "nbformat": 4,
 "nbformat_minor": 2
}
